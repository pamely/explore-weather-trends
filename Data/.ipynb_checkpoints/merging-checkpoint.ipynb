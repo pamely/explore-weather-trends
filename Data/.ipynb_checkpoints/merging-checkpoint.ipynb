{
 "cells": [
  {
   "cell_type": "code",
   "execution_count": 14,
   "metadata": {},
   "outputs": [
    {
     "ename": "SyntaxError",
     "evalue": "invalid syntax (<ipython-input-14-4eb34c7e15d3>, line 5)",
     "output_type": "error",
     "traceback": [
      "\u001b[0;36m  File \u001b[0;32m\"<ipython-input-14-4eb34c7e15d3>\"\u001b[0;36m, line \u001b[0;32m5\u001b[0m\n\u001b[0;31m    merge.rename(columns={'avg_temp_x': 'global_avg_temp', inplace=True})\u001b[0m\n\u001b[0m                                                                  ^\u001b[0m\n\u001b[0;31mSyntaxError\u001b[0m\u001b[0;31m:\u001b[0m invalid syntax\n"
     ]
    }
   ],
   "source": [
    "from pandas import *\n",
    "first_file = read_csv('results_global_data.csv')\n",
    "second_file = read_csv ('results_city_data.csv')\n",
    "merge = first_file.merge (second_file ,how='right', on ='year')\n",
    "merge.rename(columns={'avg_temp_x': 'global_avg_temp'}, inplace=True)\n",
    "#london = london.rename(columns={'WindDirDegrees<br />':'WindDirDegrees'})\n",
    "merge.to_csv(\"new_data_file.csv\", index=False)"
   ]
  }
 ],
 "metadata": {
  "kernelspec": {
   "display_name": "Python 3",
   "language": "python",
   "name": "python3"
  },
  "language_info": {
   "codemirror_mode": {
    "name": "ipython",
    "version": 3
   },
   "file_extension": ".py",
   "mimetype": "text/x-python",
   "name": "python",
   "nbconvert_exporter": "python",
   "pygments_lexer": "ipython3",
   "version": "3.7.0"
  }
 },
 "nbformat": 4,
 "nbformat_minor": 2
}
