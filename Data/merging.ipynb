{
 "cells": [
  {
   "cell_type": "code",
   "execution_count": 1,
   "metadata": {},
   "outputs": [],
   "source": [
    "    from pandas import *\n",
    "first_file = read_csv('results_global_data.csv')\n",
    "second_file = read_csv('results_city_data.csv')\n",
    "# On the line below,  we merge the avg_temp from the city level data file with the gloabal level data file\n",
    "merge = first_file.merge(second_file ,how = 'right', on = 'year')\n",
    "# On the line below, we rename the merge dataframe columns with more significant names \n",
    "merge.rename(columns = {'avg_temp_x': 'global_avg_temp','avg_temp_y': 'city_avg_temp'}, inplace = True)\n",
    "# On the line below, we export the merge dataframe to a csv file we call new_data_file.csv \n",
    "merge.to_csv(\"new_data_file.csv\", index = False)"
   ]
  }
 ],
 "metadata": {
  "kernelspec": {
   "display_name": "Python 3",
   "language": "python",
   "name": "python3"
  },
  "language_info": {
   "codemirror_mode": {
    "name": "ipython",
    "version": 3
   },
   "file_extension": ".py",
   "mimetype": "text/x-python",
   "name": "python",
   "nbconvert_exporter": "python",
   "pygments_lexer": "ipython3",
   "version": "3.7.2"
  }
 },
 "nbformat": 4,
 "nbformat_minor": 2
}
